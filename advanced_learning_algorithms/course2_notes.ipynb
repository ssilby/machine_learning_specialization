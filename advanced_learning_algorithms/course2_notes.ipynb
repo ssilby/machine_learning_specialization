{
 "cells": [
  {
   "attachments": {},
   "cell_type": "markdown",
   "metadata": {},
   "source": [
    "# Advenced Learning Algorithms Course Notes\n",
    " \n",
    "## Building a Neural Network architecture (TensorFlow Implementation)"
   ]
  },
  {
   "cell_type": "code",
   "execution_count": 1,
   "metadata": {},
   "outputs": [],
   "source": [
    "import tensorflow as tf\n",
    "import numpy as np\n",
    "from tensorflow import keras\n",
    "from tensorflow.keras import layers"
   ]
  },
  {
   "cell_type": "code",
   "execution_count": null,
   "metadata": {},
   "outputs": [],
   "source": [
    "model = keras.Sequential([\n",
    "    layers.Dense(units=3, activation=\"sigmoid\"),\n",
    "    layers.Dense(units=1, activation=\"sigmoid\")])\n",
    "\n",
    "x = np.array([[200.0, 17.0],\n",
    "              [120.0, 5.0],\n",
    "              [425.0, 20.0],\n",
    "              [212.0, 18.0]])\n",
    "\n",
    "y = np.array([1,0,0,1])\n",
    "\n",
    "model.compile(...) #parameters taught later\n",
    "model.fit(x,y)\n",
    "\n",
    "model.predict(x_new)\n",
    "\n"
   ]
  },
  {
   "cell_type": "code",
   "execution_count": null,
   "metadata": {},
   "outputs": [],
   "source": []
  },
  {
   "cell_type": "markdown",
   "metadata": {},
   "source": []
  }
 ],
 "metadata": {
  "kernelspec": {
   "display_name": "fastai",
   "language": "python",
   "name": "python3"
  },
  "language_info": {
   "codemirror_mode": {
    "name": "ipython",
    "version": 3
   },
   "file_extension": ".py",
   "mimetype": "text/x-python",
   "name": "python",
   "nbconvert_exporter": "python",
   "pygments_lexer": "ipython3",
   "version": "3.9.16"
  },
  "orig_nbformat": 4
 },
 "nbformat": 4,
 "nbformat_minor": 2
}
