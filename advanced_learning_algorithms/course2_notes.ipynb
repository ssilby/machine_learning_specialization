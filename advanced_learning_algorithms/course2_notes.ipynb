{
 "cells": [
  {
   "attachments": {},
   "cell_type": "markdown",
   "metadata": {},
   "source": [
    "# Advenced Learning Algorithms Course Notes\n",
    " \n",
    "## Building a Neural Network architecture (TensorFlow Implementation)"
   ]
  },
  {
   "cell_type": "code",
   "execution_count": 1,
   "metadata": {},
   "outputs": [],
   "source": [
    "import tensorflow as tf\n",
    "import numpy as np\n",
    "from tensorflow import keras\n",
    "from tensorflow.keras import layers"
   ]
  },
  {
   "cell_type": "code",
   "execution_count": null,
   "metadata": {},
   "outputs": [],
   "source": [
    "model = keras.Sequential([\n",
    "    layers.Dense(units=3, activation=\"sigmoid\"),\n",
    "    layers.Dense(units=1, activation=\"sigmoid\")])\n",
    "\n",
    "x = np.array([[200.0, 17.0],\n",
    "              [120.0, 5.0],\n",
    "              [425.0, 20.0],\n",
    "              [212.0, 18.0]])\n",
    "\n",
    "y = np.array([1,0,0,1])\n",
    "\n",
    "model.compile(...) #parameters taught later\n",
    "model.fit(x,y)\n",
    "\n",
    "model.predict(x_new)\n",
    "\n"
   ]
  },
  {
   "cell_type": "code",
   "execution_count": null,
   "metadata": {},
   "outputs": [],
   "source": [
    "# easy threshold code\n",
    "yhat = (predictions >= 0.5).astype(int)\n",
    "print(f\"decisions = \\n{yhat}\")"
   ]
  },
  {
   "cell_type": "markdown",
   "metadata": {},
   "source": [
    "# WEEK 2!"
   ]
  },
  {
   "cell_type": "markdown",
   "metadata": {},
   "source": [
    "## Tensorflow Implementation"
   ]
  },
  {
   "cell_type": "markdown",
   "metadata": {},
   "source": [
    "in model.comple(loss=BinaryCrossentropy()) you have to specify the loss function\n",
    "model.fit(X,Y,epochs=100)\n",
    "epochs is the number of times gradient descent runs\n",
    "\n",
    "### Training Details\n",
    "\n",
    "Model training steps (logistic regression)\n",
    "1. specify hot to compute output given input x and parameters w,b Fw,b(X) = ?\n",
    "2. specify loss and cost functions \n",
    "3. train on data to minimize J(w,b) (cost)"
   ]
  },
  {
   "cell_type": "code",
   "execution_count": null,
   "metadata": {},
   "outputs": [],
   "source": [
    "# 1. specify hot to compute output given input x and parameters w,b Fw,b(X) = ?\n",
    "z = np.dot(w,x) + b\n",
    "f_x = 1/(1+np.exp(-z))\n",
    "\n",
    "# 2. specify loss and cost functions\n",
    "loss = -y * np.log(f_x) - (1-y) * np.log(1-fx)\n",
    "\n",
    "# 3. train on data to minimize J(w,b) (cost)\n",
    "w = w - alpha * dj_dw"
   ]
  },
  {
   "cell_type": "markdown",
   "metadata": {},
   "source": [
    "## now with tensorflow\n"
   ]
  },
  {
   "cell_type": "code",
   "execution_count": null,
   "metadata": {},
   "outputs": [],
   "source": [
    "# step 1\n",
    "model = Sequential([\n",
    "    Dense(...)\n",
    "    Dense(...)\n",
    "    Dense(...)\n",
    "])\n",
    "\n",
    "# step 2\n",
    "model.compile(loss=BinaryCrossentropy())\n",
    "\n",
    "# step 3\n",
    "model.fit(X,y,epochs=100)"
   ]
  }
 ],
 "metadata": {
  "kernelspec": {
   "display_name": "fastai",
   "language": "python",
   "name": "python3"
  },
  "language_info": {
   "codemirror_mode": {
    "name": "ipython",
    "version": 3
   },
   "file_extension": ".py",
   "mimetype": "text/x-python",
   "name": "python",
   "nbconvert_exporter": "python",
   "pygments_lexer": "ipython3",
   "version": "3.9.16"
  },
  "orig_nbformat": 4
 },
 "nbformat": 4,
 "nbformat_minor": 2
}
